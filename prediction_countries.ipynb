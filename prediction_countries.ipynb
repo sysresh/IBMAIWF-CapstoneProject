{
 "cells": [
  {
   "cell_type": "code",
   "execution_count": 1,
   "metadata": {},
   "outputs": [],
   "source": [
    "import requests"
   ]
  },
  {
   "cell_type": "code",
   "execution_count": 2,
   "metadata": {},
   "outputs": [],
   "source": [
    "# Avaail service port on Docker\n",
    "port = 4000"
   ]
  },
  {
   "cell_type": "code",
   "execution_count": 3,
   "metadata": {
    "scrolled": true
   },
   "outputs": [
    {
     "name": "stdout",
     "output_type": "stream",
     "text": [
      "{'mode': 'production'}\n",
      "true\n",
      "\n"
     ]
    }
   ],
   "source": [
    "# Train model\n",
    "request_json = {'mode':'production'}\n",
    "print(request_json)\n",
    "\n",
    "r = requests.post('http://127.0.0.1:{}/train'.format(port),json=request_json)\n",
    "\n",
    "print(r.text)"
   ]
  },
  {
   "cell_type": "code",
   "execution_count": 4,
   "metadata": {},
   "outputs": [
    {
     "name": "stdout",
     "output_type": "stream",
     "text": [
      "{'country': 'netherlands', 'year': '2019', 'month': '01', 'day': '05', 'mode': 'production'}\n",
      "{\"y_pred\":[374.5479999999999],\"y_proba\":null}\n",
      "\n"
     ]
    }
   ],
   "source": [
    "# Prediction Netherlands\n",
    "request_json = {'country':'netherlands','year':'2019','month':'01','day':'05','mode':'production'}\n",
    "print(request_json)\n",
    "\n",
    "r = requests.post('http://127.0.0.1:{}/predict'.format(port),json=request_json)\n",
    "\n",
    "print(r.text)"
   ]
  },
  {
   "cell_type": "code",
   "execution_count": 5,
   "metadata": {},
   "outputs": [
    {
     "name": "stdout",
     "output_type": "stream",
     "text": [
      "{'country': 'all', 'year': '2019', 'month': '01', 'day': '05', 'mode': 'production'}\n",
      "{\"y_pred\":[179281.21065000002],\"y_proba\":null}\n",
      "\n"
     ]
    }
   ],
   "source": [
    "# Prediction All countries\n",
    "request_json = {'country':'all','year':'2019','month':'01','day':'05','mode':'production'}\n",
    "print(request_json)\n",
    "\n",
    "r = requests.post('http://127.0.0.1:{}/predict'.format(port),json=request_json)\n",
    "\n",
    "print(r.text)"
   ]
  },
  {
   "cell_type": "code",
   "execution_count": null,
   "metadata": {},
   "outputs": [],
   "source": []
  }
 ],
 "metadata": {
  "kernelspec": {
   "display_name": "Python 3",
   "language": "python",
   "name": "python3"
  },
  "language_info": {
   "codemirror_mode": {
    "name": "ipython",
    "version": 3
   },
   "file_extension": ".py",
   "mimetype": "text/x-python",
   "name": "python",
   "nbconvert_exporter": "python",
   "pygments_lexer": "ipython3",
   "version": "3.7.6"
  }
 },
 "nbformat": 4,
 "nbformat_minor": 2
}
