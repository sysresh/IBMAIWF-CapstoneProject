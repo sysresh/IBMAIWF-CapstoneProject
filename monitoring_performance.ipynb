{
 "cells": [
  {
   "cell_type": "code",
   "execution_count": 1,
   "metadata": {},
   "outputs": [],
   "source": [
    "import os\n",
    "import numpy as np\n",
    "\n",
    "from sklearn.decomposition import PCA\n",
    "from sklearn.pipeline import Pipeline\n",
    "from sklearn.covariance import EllipticEnvelope\n",
    "from sklearn.preprocessing import StandardScaler\n",
    "from scipy.stats import wasserstein_distance\n",
    "\n",
    "from application.cslib import fetch_ts, engineer_features"
   ]
  },
  {
   "cell_type": "code",
   "execution_count": 2,
   "metadata": {},
   "outputs": [],
   "source": [
    "def get_monitoring_tools(X,y,preprocessor):\n",
    "    \"\"\"\n",
    "    determine outlier and distance thresholds\n",
    "    return thresholds, outlier model(s) and source distributions for distances\n",
    "    NOTE: for classification the outlier detection on y is not needed\n",
    "\n",
    "    \"\"\"\n",
    "\n",
    "    #preprocessor = get_preprocessor()\n",
    "    preprocessor = preprocessor.fit(X)\n",
    "    X_pp = preprocessor.transform(X)\n",
    "    \n",
    "    xpipe = Pipeline(steps=[('pca', PCA(2)),\n",
    "                            ('clf', EllipticEnvelope(random_state=0,contamination=0.01))])\n",
    "    xpipe.fit(X_pp)\n",
    "    \n",
    "    bs_samples = 1000\n",
    "    outliers_X = np.zeros(bs_samples)\n",
    "    wasserstein_X = np.zeros(bs_samples)\n",
    "    wasserstein_y = np.zeros(bs_samples)\n",
    "    \n",
    "    for b in range(bs_samples):\n",
    "        n_samples = int(np.round(0.80 * X.shape[0]))\n",
    "        subset_indices = np.random.choice(np.arange(X.shape[0]),n_samples,replace=True).astype(int)\n",
    "        y_bs=y[subset_indices]\n",
    "        X_bs=X_pp[subset_indices,:]\n",
    "    \n",
    "        test1 = xpipe.predict(X_bs)\n",
    "        wasserstein_X[b] = wasserstein_distance(X_pp.flatten(),X_bs.flatten())\n",
    "        wasserstein_y[b] = wasserstein_distance(y,y_bs.flatten())\n",
    "        outliers_X[b] = 100 * (1.0 - (test1[test1==1].size / test1.size))\n",
    "\n",
    "    ## determine thresholds as a function of the confidence intervals\n",
    "    outliers_X.sort()\n",
    "    outlier_X_threshold = outliers_X[int(0.975*bs_samples)] + outliers_X[int(0.025*bs_samples)]\n",
    "\n",
    "    wasserstein_X.sort()\n",
    "    wasserstein_X_threshold = wasserstein_X[int(0.975*bs_samples)] + wasserstein_X[int(0.025*bs_samples)]\n",
    "\n",
    "    wasserstein_y.sort()\n",
    "    wasserstein_y_threshold = wasserstein_y[int(0.975*bs_samples)] + wasserstein_y[int(0.025*bs_samples)]\n",
    "    \n",
    "    to_return = {\"outlier_X\": np.round(outlier_X_threshold,1),\n",
    "                 \"wasserstein_X\":np.round(wasserstein_X_threshold,2),\n",
    "                 \"wasserstein_y\":np.round(wasserstein_y_threshold,2),\n",
    "                 \"preprocessor\":preprocessor,\n",
    "                 \"clf_X\":xpipe,\n",
    "                 \"X_source\":X_pp,\n",
    "                 \"y_source\":y,\n",
    "                 \"latest_X\":X,\n",
    "                 \"latest_y\":y}\n",
    "    return(to_return)"
   ]
  },
  {
   "cell_type": "code",
   "execution_count": 3,
   "metadata": {},
   "outputs": [
    {
     "name": "stdout",
     "output_type": "stream",
     "text": [
      "... loading ts data from files\n"
     ]
    }
   ],
   "source": [
    "data_dir = os.path.join(\"data\",\"cs-production\")\n",
    "ts_all = fetch_ts(data_dir,clean=False)\n",
    "\n",
    "X, y, dates = engineer_features(ts_all['all'])"
   ]
  },
  {
   "cell_type": "code",
   "execution_count": 4,
   "metadata": {},
   "outputs": [
    {
     "name": "stdout",
     "output_type": "stream",
     "text": [
      "outlier_X 4.1\n",
      "wasserstein_X 0.24\n",
      "wasserstein_y 18577.76\n"
     ]
    }
   ],
   "source": [
    "pm_tools = get_monitoring_tools(X,y,StandardScaler())\n",
    "\n",
    "print(\"outlier_X\",pm_tools['outlier_X'])\n",
    "print(\"wasserstein_X\",pm_tools['wasserstein_X'])\n",
    "print(\"wasserstein_y\",pm_tools['wasserstein_y'])"
   ]
  },
  {
   "cell_type": "code",
   "execution_count": null,
   "metadata": {},
   "outputs": [],
   "source": []
  }
 ],
 "metadata": {
  "kernelspec": {
   "display_name": "Python 3",
   "language": "python",
   "name": "python3"
  },
  "language_info": {
   "codemirror_mode": {
    "name": "ipython",
    "version": 3
   },
   "file_extension": ".py",
   "mimetype": "text/x-python",
   "name": "python",
   "nbconvert_exporter": "python",
   "pygments_lexer": "ipython3",
   "version": "3.7.6"
  }
 },
 "nbformat": 4,
 "nbformat_minor": 2
}
